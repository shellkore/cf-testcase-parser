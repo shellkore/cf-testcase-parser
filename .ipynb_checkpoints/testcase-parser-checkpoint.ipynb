{
 "cells": [
  {
   "cell_type": "code",
   "execution_count": 1,
   "metadata": {},
   "outputs": [],
   "source": [
    "import requests\n",
    "from bs4 import BeautifulSoup\n",
    "import os"
   ]
  },
  {
   "cell_type": "code",
   "execution_count": 2,
   "metadata": {},
   "outputs": [],
   "source": [
    "contestNumber = '1331'"
   ]
  },
  {
   "cell_type": "code",
   "execution_count": 3,
   "metadata": {},
   "outputs": [],
   "source": [
    "BASE_URL = \"https://codeforces.com/contest\""
   ]
  },
  {
   "cell_type": "code",
   "execution_count": 10,
   "metadata": {},
   "outputs": [],
   "source": [
    "def testCaseExtracter(contestNum,level):\n",
    "    print(contestNum,level)\n",
    "    problemPageUrl = f\"{BASE_URL}/{contestNum}/problem/{level}\"\n",
    "    print(problemPageUrl)\n",
    "    page = requests.get(problemPageUrl)\n",
    "    soup = BeautifulSoup(page.text, 'html.parser')\n",
    "    sampleTests = soup.find(class_='sample-test')\n",
    "    inputsElement = sampleTests.find_all(class_='input')\n",
    "    inputList = [elem.find('pre').text for elem in inputsElement]\n",
    "    outputsElement = sampleTests.find_all(class_='output')\n",
    "    outputList = [elem.find('pre').text for elem in outputsElement]\n",
    "    return(inputList,outputList)\n",
    "    "
   ]
  },
  {
   "cell_type": "code",
   "execution_count": 11,
   "metadata": {},
   "outputs": [
    {
     "name": "stdout",
     "output_type": "stream",
     "text": [
      "1331 B\n",
      "https://codeforces.com/contest/1331/problem/B\n",
      "(['\\n35\\n', '\\n57\\n', '\\n391\\n'], ['\\n57\\n', '\\n319\\n', '\\n1723\\n'])\n"
     ]
    }
   ],
   "source": [
    "print(testCaseExtracter('1331','B'))"
   ]
  },
  {
   "cell_type": "code",
   "execution_count": 6,
   "metadata": {},
   "outputs": [],
   "source": [
    "def getQuestionCount(contestNum):\n",
    "    contestPageUrl = f\"{BASE_URL}/{contestNumber}\"\n",
    "    contestPage = requests.get(contestPageUrl)\n",
    "    soupContest = BeautifulSoup(contestPage.text,'html.parser')\n",
    "    dataTable = soupContest.find_all(class_='datatable')[0]\n",
    "    numberOfQuestion = len(dataTable.find_all(\"td\",class_='id'))\n",
    "    return(numberOfQuestion)"
   ]
  },
  {
   "cell_type": "code",
   "execution_count": 7,
   "metadata": {},
   "outputs": [],
   "source": [
    "current_dir = (os.getcwd())"
   ]
  },
  {
   "cell_type": "code",
   "execution_count": 8,
   "metadata": {},
   "outputs": [
    {
     "ename": "FileExistsError",
     "evalue": "[Errno 17] File exists: '/home/shellkore/Documents/projects/CF-testcase-parser/1331'",
     "output_type": "error",
     "traceback": [
      "\u001b[0;31m---------------------------------------------------------------------------\u001b[0m",
      "\u001b[0;31mFileExistsError\u001b[0m                           Traceback (most recent call last)",
      "\u001b[0;32m<ipython-input-8-c6c1d79e49e2>\u001b[0m in \u001b[0;36m<module>\u001b[0;34m\u001b[0m\n\u001b[1;32m      1\u001b[0m \u001b[0mfolderName\u001b[0m \u001b[0;34m=\u001b[0m \u001b[0mos\u001b[0m\u001b[0;34m.\u001b[0m\u001b[0mpath\u001b[0m\u001b[0;34m.\u001b[0m\u001b[0mjoin\u001b[0m\u001b[0;34m(\u001b[0m\u001b[0mcurrent_dir\u001b[0m\u001b[0;34m,\u001b[0m\u001b[0mcontestNumber\u001b[0m\u001b[0;34m)\u001b[0m\u001b[0;34m\u001b[0m\u001b[0;34m\u001b[0m\u001b[0m\n\u001b[0;32m----> 2\u001b[0;31m \u001b[0mos\u001b[0m\u001b[0;34m.\u001b[0m\u001b[0mmkdir\u001b[0m\u001b[0;34m(\u001b[0m\u001b[0mfolderName\u001b[0m\u001b[0;34m)\u001b[0m\u001b[0;34m\u001b[0m\u001b[0;34m\u001b[0m\u001b[0m\n\u001b[0m",
      "\u001b[0;31mFileExistsError\u001b[0m: [Errno 17] File exists: '/home/shellkore/Documents/projects/CF-testcase-parser/1331'"
     ]
    }
   ],
   "source": [
    "folderName = os.path.join(current_dir,contestNumber)\n",
    "os.mkdir(folderName)"
   ]
  },
  {
   "cell_type": "code",
   "execution_count": 13,
   "metadata": {},
   "outputs": [
    {
     "name": "stdout",
     "output_type": "stream",
     "text": [
      "<class 'str'>\n",
      "B\n",
      "1331\n",
      "1331 B\n",
      "https://codeforces.com/contest/1331/problem/B\n",
      "['\\n35\\n', '\\n57\\n', '\\n391\\n'] ['\\n57\\n', '\\n319\\n', '\\n1723\\n']\n",
      "<class 'str'>\n",
      "C\n",
      "1331\n",
      "1331 C\n",
      "https://codeforces.com/contest/1331/problem/C\n",
      "['\\n2\\n', '\\n5\\n', '\\n35\\n'] ['\\n2\\n', '\\n24\\n', '\\n50\\n']\n",
      "<class 'str'>\n",
      "D\n",
      "1331\n",
      "1331 D\n",
      "https://codeforces.com/contest/1331/problem/D\n",
      "['\\nA278832\\n', '\\nA089956\\n', '\\nA089957\\n', '\\nA144045\\n'] ['\\n0\\n', '\\n0\\n', '\\n1\\n', '\\n1\\n']\n",
      "<class 'str'>\n",
      "E\n",
      "1331\n",
      "1331 E\n",
      "https://codeforces.com/contest/1331/problem/E\n",
      "['\\n0 0\\n', '\\n27 0\\n', '\\n0 27\\n', '\\n27 27\\n'] ['\\nOUT\\n', '\\nIN\\n', '\\nOUT\\n', '\\nIN\\n']\n",
      "<class 'str'>\n",
      "F\n",
      "1331\n",
      "1331 F\n",
      "https://codeforces.com/contest/1331/problem/F\n",
      "['\\nGENIUS\\n', '\\nDOCTOR\\n', '\\nIRENE\\n', '\\nMARY\\n', '\\nSMARTPHONE\\n', '\\nREVOLVER\\n', '\\nHOLMES\\n', '\\nWATSON\\n'] ['\\nYES\\n', '\\nNO\\n', '\\nYES\\n', '\\nNO\\n', '\\nNO\\n', '\\nYES\\n', '\\nNO\\n', '\\nYES\\n']\n",
      "<class 'str'>\n",
      "G\n",
      "1331\n",
      "1331 G\n",
      "https://codeforces.com/contest/1331/problem/G\n",
      "['\\n0\\n1\\n-2\\n-3\\n-4\\n-5\\n-6\\n-7\\n-8\\n-9\\n10\\n'] ['\\nf(10) = MAGNA NIMIS!\\nf(-9) = -3642.00\\nf(-8) = -2557.17\\nf(-7) = -1712.35\\nf(-6) = -1077.55\\nf(-5) = -622.76\\nf(-4) = -318.00\\nf(-3) = -133.27\\nf(-2) = -38.59\\nf(1) = 6.00\\nf(0) = 0.00\\n']\n",
      "<class 'str'>\n",
      "H\n",
      "1331\n",
      "1331 H\n",
      "https://codeforces.com/contest/1331/problem/H\n",
      "['\\n6100\\n', '\\n9900\\n', '\\n100002\\n', '\\n123456\\n'] ['\\n48\\n', '\\n45\\n', '\\n0\\n', '\\n171\\n']\n",
      "<class 'str'>\n",
      "I\n",
      "1331\n",
      "1331 I\n",
      "https://codeforces.com/contest/1331/problem/I\n"
     ]
    },
    {
     "ename": "AttributeError",
     "evalue": "'NoneType' object has no attribute 'find_all'",
     "output_type": "error",
     "traceback": [
      "\u001b[0;31m---------------------------------------------------------------------------\u001b[0m",
      "\u001b[0;31mAttributeError\u001b[0m                            Traceback (most recent call last)",
      "\u001b[0;32m<ipython-input-13-3cfd9a6037e5>\u001b[0m in \u001b[0;36m<module>\u001b[0;34m\u001b[0m\n\u001b[1;32m      5\u001b[0m     \u001b[0mprint\u001b[0m\u001b[0;34m(\u001b[0m\u001b[0mproblemLevel\u001b[0m\u001b[0;34m)\u001b[0m\u001b[0;34m\u001b[0m\u001b[0;34m\u001b[0m\u001b[0m\n\u001b[1;32m      6\u001b[0m     \u001b[0mprint\u001b[0m\u001b[0;34m(\u001b[0m\u001b[0mcontestNumber\u001b[0m\u001b[0;34m)\u001b[0m\u001b[0;34m\u001b[0m\u001b[0;34m\u001b[0m\u001b[0m\n\u001b[0;32m----> 7\u001b[0;31m     \u001b[0minputs\u001b[0m\u001b[0;34m,\u001b[0m\u001b[0moutputs\u001b[0m \u001b[0;34m=\u001b[0m \u001b[0mtestCaseExtracter\u001b[0m\u001b[0;34m(\u001b[0m\u001b[0mcontestNumber\u001b[0m\u001b[0;34m,\u001b[0m\u001b[0mproblemLevel\u001b[0m\u001b[0;34m)\u001b[0m\u001b[0;34m\u001b[0m\u001b[0;34m\u001b[0m\u001b[0m\n\u001b[0m\u001b[1;32m      8\u001b[0m     \u001b[0mprint\u001b[0m\u001b[0;34m(\u001b[0m\u001b[0minputs\u001b[0m\u001b[0;34m,\u001b[0m\u001b[0moutputs\u001b[0m\u001b[0;34m)\u001b[0m\u001b[0;34m\u001b[0m\u001b[0;34m\u001b[0m\u001b[0m\n",
      "\u001b[0;32m<ipython-input-10-9c4e2a21fd1d>\u001b[0m in \u001b[0;36mtestCaseExtracter\u001b[0;34m(contestNum, level)\u001b[0m\n\u001b[1;32m      6\u001b[0m     \u001b[0msoup\u001b[0m \u001b[0;34m=\u001b[0m \u001b[0mBeautifulSoup\u001b[0m\u001b[0;34m(\u001b[0m\u001b[0mpage\u001b[0m\u001b[0;34m.\u001b[0m\u001b[0mtext\u001b[0m\u001b[0;34m,\u001b[0m \u001b[0;34m'html.parser'\u001b[0m\u001b[0;34m)\u001b[0m\u001b[0;34m\u001b[0m\u001b[0;34m\u001b[0m\u001b[0m\n\u001b[1;32m      7\u001b[0m     \u001b[0msampleTests\u001b[0m \u001b[0;34m=\u001b[0m \u001b[0msoup\u001b[0m\u001b[0;34m.\u001b[0m\u001b[0mfind\u001b[0m\u001b[0;34m(\u001b[0m\u001b[0mclass_\u001b[0m\u001b[0;34m=\u001b[0m\u001b[0;34m'sample-test'\u001b[0m\u001b[0;34m)\u001b[0m\u001b[0;34m\u001b[0m\u001b[0;34m\u001b[0m\u001b[0m\n\u001b[0;32m----> 8\u001b[0;31m     \u001b[0minputsElement\u001b[0m \u001b[0;34m=\u001b[0m \u001b[0msampleTests\u001b[0m\u001b[0;34m.\u001b[0m\u001b[0mfind_all\u001b[0m\u001b[0;34m(\u001b[0m\u001b[0mclass_\u001b[0m\u001b[0;34m=\u001b[0m\u001b[0;34m'input'\u001b[0m\u001b[0;34m)\u001b[0m\u001b[0;34m\u001b[0m\u001b[0;34m\u001b[0m\u001b[0m\n\u001b[0m\u001b[1;32m      9\u001b[0m     \u001b[0minputList\u001b[0m \u001b[0;34m=\u001b[0m \u001b[0;34m[\u001b[0m\u001b[0melem\u001b[0m\u001b[0;34m.\u001b[0m\u001b[0mfind\u001b[0m\u001b[0;34m(\u001b[0m\u001b[0;34m'pre'\u001b[0m\u001b[0;34m)\u001b[0m\u001b[0;34m.\u001b[0m\u001b[0mtext\u001b[0m \u001b[0;32mfor\u001b[0m \u001b[0melem\u001b[0m \u001b[0;32min\u001b[0m \u001b[0minputsElement\u001b[0m\u001b[0;34m]\u001b[0m\u001b[0;34m\u001b[0m\u001b[0;34m\u001b[0m\u001b[0m\n\u001b[1;32m     10\u001b[0m     \u001b[0moutputsElement\u001b[0m \u001b[0;34m=\u001b[0m \u001b[0msampleTests\u001b[0m\u001b[0;34m.\u001b[0m\u001b[0mfind_all\u001b[0m\u001b[0;34m(\u001b[0m\u001b[0mclass_\u001b[0m\u001b[0;34m=\u001b[0m\u001b[0;34m'output'\u001b[0m\u001b[0;34m)\u001b[0m\u001b[0;34m\u001b[0m\u001b[0;34m\u001b[0m\u001b[0m\n",
      "\u001b[0;31mAttributeError\u001b[0m: 'NoneType' object has no attribute 'find_all'"
     ]
    }
   ],
   "source": [
    "quesCount = getQuestionCount(contestNumber)\n",
    "for i in range(quesCount-1):\n",
    "    problemLevel = chr(ord('B')+i)\n",
    "    print(type(problemLevel))\n",
    "    print(problemLevel)\n",
    "    print(contestNumber)\n",
    "    inputs,outputs = testCaseExtracter(contestNumber,problemLevel)\n",
    "    print(inputs,outputs)"
   ]
  },
  {
   "cell_type": "code",
   "execution_count": null,
   "metadata": {},
   "outputs": [],
   "source": []
  }
 ],
 "metadata": {
  "kernelspec": {
   "display_name": "Python 3",
   "language": "python",
   "name": "python3"
  },
  "language_info": {
   "codemirror_mode": {
    "name": "ipython",
    "version": 3
   },
   "file_extension": ".py",
   "mimetype": "text/x-python",
   "name": "python",
   "nbconvert_exporter": "python",
   "pygments_lexer": "ipython3",
   "version": "3.7.6"
  }
 },
 "nbformat": 4,
 "nbformat_minor": 4
}

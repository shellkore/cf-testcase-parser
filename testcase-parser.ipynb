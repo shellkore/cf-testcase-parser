{
 "cells": [
  {
   "cell_type": "code",
   "execution_count": 1,
   "metadata": {},
   "outputs": [],
   "source": [
    "import requests\n",
    "from bs4 import BeautifulSoup\n",
    "import os"
   ]
  },
  {
   "cell_type": "code",
   "execution_count": 3,
   "metadata": {},
   "outputs": [],
   "source": [
    "BASE_URL = \"https://codeforces.com/contest\""
   ]
  },
  {
   "cell_type": "code",
   "execution_count": 10,
   "metadata": {},
   "outputs": [],
   "source": [
    "def testCaseExtracter(contestNum,level):\n",
    "    print(contestNum,level)\n",
    "    problemPageUrl = f\"{BASE_URL}/{contestNum}/problem/{level}\"\n",
    "    print(problemPageUrl)\n",
    "    page = requests.get(problemPageUrl)\n",
    "    soup = BeautifulSoup(page.text, 'html.parser')\n",
    "    sampleTests = soup.find(class_='sample-test')\n",
    "    inputsElement = sampleTests.find_all(class_='input')\n",
    "    inputList = [elem.find('pre').text for elem in inputsElement]\n",
    "    outputsElement = sampleTests.find_all(class_='output')\n",
    "    outputList = [elem.find('pre').text for elem in outputsElement]\n",
    "    return(inputList,outputList)\n",
    "    "
   ]
  },
  {
   "cell_type": "code",
   "execution_count": 26,
   "metadata": {},
   "outputs": [],
   "source": [
    "def getQuestionCount(contestNum):\n",
    "    contestPageUrl = f\"{BASE_URL}/{contestNum}\"\n",
    "    print(contestPageUrl)\n",
    "    contestPage = requests.get(contestPageUrl)\n",
    "    soupContest = BeautifulSoup(contestPage.text,'html.parser')\n",
    "    dataTable = soupContest.find_all(class_='datatable')[0]\n",
    "    numberOfQuestion = len(dataTable.find_all(\"td\",class_='id'))\n",
    "    return(numberOfQuestion)"
   ]
  },
  {
   "cell_type": "code",
   "execution_count": 29,
   "metadata": {},
   "outputs": [],
   "source": [
    "def main(contestNumber):\n",
    "    quesCount = getQuestionCount(contestNumber)\n",
    "    print(f\"Total number of questions are {quesCount}\")\n",
    "    current_dir = (os.getcwd())\n",
    "    folderName = os.path.join(current_dir,contestNumber)\n",
    "    os.mkdir(folderName)\n",
    "    for i in range(quesCount):\n",
    "        problemLevel = chr(ord('A')+i)\n",
    "        try: \n",
    "            inputs,outputs = testCaseExtracter(contestNumber,problemLevel)\n",
    "        #     print(inputs,outputs)\n",
    "            numOfInputs = len(inputs)\n",
    "            problemFolder = os.path.join(current_dir,contestNumber,problemLevel)\n",
    "            os.mkdir(problemFolder)\n",
    "            for inp in range(numOfInputs):\n",
    "                with open(f'{problemFolder}/input{inp}.txt','w') as f:\n",
    "                    f.write(inputs[inp])\n",
    "        except:\n",
    "            print(f\"No inputs in {problemLevel}\")\n",
    "    print(f\"Request for contest number {contestNumber} completed. Wish you all the best!!!\")"
   ]
  },
  {
   "cell_type": "code",
   "execution_count": null,
   "metadata": {},
   "outputs": [],
   "source": []
  }
 ],
 "metadata": {
  "kernelspec": {
   "display_name": "Python 3",
   "language": "python",
   "name": "python3"
  },
  "language_info": {
   "codemirror_mode": {
    "name": "ipython",
    "version": 3
   },
   "file_extension": ".py",
   "mimetype": "text/x-python",
   "name": "python",
   "nbconvert_exporter": "python",
   "pygments_lexer": "ipython3",
   "version": "3.7.6"
  }
 },
 "nbformat": 4,
 "nbformat_minor": 4
}
